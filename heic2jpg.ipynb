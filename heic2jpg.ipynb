{
 "cells": [
  {
   "cell_type": "markdown",
   "id": "f36da15b",
   "metadata": {},
   "source": [
    "# Convert-HEIC-into-jpg-using-ImageMagick\n",
    "This notebook shows how to convert heic into jpg.  "
   ]
  },
  {
   "cell_type": "code",
   "execution_count": 37,
   "id": "7da8eee9",
   "metadata": {},
   "outputs": [
    {
     "name": "stdout",
     "output_type": "stream",
     "text": [
      "['D:\\\\blog\\\\2023\\\\20230702_ImageMagick\\\\sample\\\\IMG_8674.HEIC', 'D:\\\\blog\\\\2023\\\\20230702_ImageMagick\\\\sample\\\\IMG_8675.HEIC', 'D:\\\\blog\\\\2023\\\\20230702_ImageMagick\\\\sample\\\\IMG_8683.HEIC', 'D:\\\\blog\\\\2023\\\\20230702_ImageMagick\\\\sample\\\\test.HEIC']\n",
      "=====start heic2jpg=====\n",
      "=====\n",
      "input: D:\\blog\\2023\\20230702_ImageMagick\\sample\\IMG_8674.HEIC\n",
      "output: D:\\blog\\2023\\20230702_ImageMagick\\sample\\IMG_8674.jpg\n",
      "=====Run ImageMagick=====\n",
      "Command\n",
      "C:\\Program Files\\ImageMagick-7.1.1-Q16-HDRI\\magick convertD:\\blog\\2023\\20230702_ImageMagick\\sample\\IMG_8674.HEIC D:\\blog\\2023\\20230702_ImageMagick\\sample\\IMG_8674.jpg\n",
      "=====\n",
      "input: D:\\blog\\2023\\20230702_ImageMagick\\sample\\IMG_8675.HEIC\n",
      "output: D:\\blog\\2023\\20230702_ImageMagick\\sample\\IMG_8675.jpg\n",
      "=====Run ImageMagick=====\n",
      "Command\n",
      "C:\\Program Files\\ImageMagick-7.1.1-Q16-HDRI\\magick convertD:\\blog\\2023\\20230702_ImageMagick\\sample\\IMG_8675.HEIC D:\\blog\\2023\\20230702_ImageMagick\\sample\\IMG_8675.jpg\n",
      "=====\n",
      "input: D:\\blog\\2023\\20230702_ImageMagick\\sample\\IMG_8683.HEIC\n",
      "output: D:\\blog\\2023\\20230702_ImageMagick\\sample\\IMG_8683.jpg\n",
      "=====Run ImageMagick=====\n",
      "Command\n",
      "C:\\Program Files\\ImageMagick-7.1.1-Q16-HDRI\\magick convertD:\\blog\\2023\\20230702_ImageMagick\\sample\\IMG_8683.HEIC D:\\blog\\2023\\20230702_ImageMagick\\sample\\IMG_8683.jpg\n",
      "=====\n",
      "input: D:\\blog\\2023\\20230702_ImageMagick\\sample\\test.HEIC\n",
      "output: D:\\blog\\2023\\20230702_ImageMagick\\sample\\test.jpg\n",
      "=====Run ImageMagick=====\n",
      "Command\n",
      "C:\\Program Files\\ImageMagick-7.1.1-Q16-HDRI\\magick convertD:\\blog\\2023\\20230702_ImageMagick\\sample\\test.HEIC D:\\blog\\2023\\20230702_ImageMagick\\sample\\test.jpg\n",
      "=====finished=====\n"
     ]
    }
   ],
   "source": [
    "import glob\n",
    "heicImg = glob.glob(r\"D:\\blog\\2023\\20230702_ImageMagick\\sample\\*.HEIC\")\n",
    "print(heicImg)\n",
    "\n",
    "print('=====start heic2jpg=====')\n",
    "for heicName in heicImg:\n",
    "    # print(heicName)\n",
    "    input = heicName\n",
    "    dirname = os.path.dirname(input)\n",
    "    basename_without_ext = os.path.splitext(os.path.basename(input))[0]\n",
    "    output = os.path.join(dirname,basename_without_ext+\".jpg\")\n",
    "    print('=====')\n",
    "    print(\"input: \"+input)\n",
    "    print(\"output: \"+output)\n",
    "    print('=====Run ImageMagick=====')\n",
    "    print('Command')\n",
    "    print(os.path.join(imageMagickPath,\"magick convert\")+input+ \" \" + output)\n",
    "    subprocess.run(os.path.join(imageMagickPath,\"magick convert\")+input+ \" \" + output)\n",
    "\n",
    "print('=====finished=====')"
   ]
  }
 ],
 "metadata": {
  "kernelspec": {
   "display_name": "Python 3 (ipykernel)",
   "language": "python",
   "name": "python3"
  },
  "language_info": {
   "codemirror_mode": {
    "name": "ipython",
    "version": 3
   },
   "file_extension": ".py",
   "mimetype": "text/x-python",
   "name": "python",
   "nbconvert_exporter": "python",
   "pygments_lexer": "ipython3",
   "version": "3.7.16"
  },
  "varInspector": {
   "cols": {
    "lenName": 16,
    "lenType": 16,
    "lenVar": 40
   },
   "kernels_config": {
    "python": {
     "delete_cmd_postfix": "",
     "delete_cmd_prefix": "del ",
     "library": "var_list.py",
     "varRefreshCmd": "print(var_dic_list())"
    },
    "r": {
     "delete_cmd_postfix": ") ",
     "delete_cmd_prefix": "rm(",
     "library": "var_list.r",
     "varRefreshCmd": "cat(var_dic_list()) "
    }
   },
   "types_to_exclude": [
    "module",
    "function",
    "builtin_function_or_method",
    "instance",
    "_Feature"
   ],
   "window_display": false
  }
 },
 "nbformat": 4,
 "nbformat_minor": 5
}
